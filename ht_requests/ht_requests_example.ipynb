{
 "cells": [
  {
   "cell_type": "code",
   "execution_count": null,
   "metadata": {},
   "outputs": [],
   "source": [
    "import json\n",
    "\n",
    "from ht_requests import ht_requests as ht_reqs\n",
    "from ht_requests import htauthcontroller as ht_ac"
   ]
  },
  {
   "cell_type": "code",
   "execution_count": null,
   "metadata": {},
   "outputs": [],
   "source": [
    "def print_json(obj):\n",
    "    \"\"\"Print JSON object.\"\"\"\n",
    "    print(json.dumps(obj, indent=2))"
   ]
  },
  {
   "cell_type": "code",
   "execution_count": null,
   "metadata": {},
   "outputs": [],
   "source": [
    "upload_file = '' # Set this to a local file on the file system\n",
    "folder_name = ''\n",
    "\n",
    "access_str = '' # This can be found in the Account section in HyperThought"
   ]
  },
  {
   "cell_type": "markdown",
   "metadata": {},
   "source": [
    "## Create authorization controller"
   ]
  },
  {
   "cell_type": "code",
   "execution_count": null,
   "metadata": {},
   "outputs": [],
   "source": [
    "auth_control = ht_ac.HTAuthorizationController(access_str)"
   ]
  },
  {
   "source": [
    "### List Projects"
   ],
   "cell_type": "markdown",
   "metadata": {}
  },
  {
   "cell_type": "code",
   "execution_count": null,
   "metadata": {},
   "outputs": [],
   "source": [
    "projects = ht_reqs.list_projects(auth_control=auth_control)\n",
    "print_json(projects)"
   ]
  },
  {
   "cell_type": "markdown",
   "metadata": {},
   "source": [
    "### View User Files  "
   ]
  },
  {
   "cell_type": "code",
   "execution_count": null,
   "metadata": {},
   "outputs": [],
   "source": [
    "contents = ht_reqs.get_item_dict_from_ht_path(auth_control=auth_control, ht_path='/')\n",
    "print_json(contents)"
   ]
  },
  {
   "source": [
    "### Create a folder"
   ],
   "cell_type": "markdown",
   "metadata": {}
  },
  {
   "cell_type": "code",
   "execution_count": null,
   "metadata": {},
   "outputs": [],
   "source": [
    "folder_id = ht_reqs.create_folder(auth_control=auth_control,\n",
    "                                  folder_name=folder_name,\n",
    "                                  metadata=[\n",
    "                                    {\n",
    "                                        'keyName': 'Symmetry',\n",
    "                                        'value': {\n",
    "                                            'type': 'string',\n",
    "                                            'link': 62\n",
    "                                        },\n",
    "                                        'unit': '',\n",
    "                                        'annotation': ''\n",
    "                                    },\n",
    "                                    {\n",
    "                                        'keyName': 'GRID',\n",
    "                                        'value': {\n",
    "                                            'type': 'string',\n",
    "                                            'link': 'SqrGrid'\n",
    "                                        },\n",
    "                                        'unit': '',\n",
    "                                        'annotation': ''\n",
    "                                    }\n",
    "                                ])\n",
    "folder_id"
   ]
  },
  {
   "cell_type": "markdown",
   "metadata": {},
   "source": [
    "### Upload a file to the folder we just created"
   ]
  },
  {
   "cell_type": "code",
   "execution_count": null,
   "metadata": {},
   "outputs": [],
   "source": [
    "upload_path = ht_reqs.get_ht_id_path_from_ht_path(auth_control=auth_control, ht_path=f'/{folder_name}')\n",
    "file_info = ht_reqs.upload_file(\n",
    "    auth_control,\n",
    "    local_path=upload_file,\n",
    "    ht_id_path=upload_path,\n",
    "    metadata=[\n",
    "            {\n",
    "                'keyName': 'Symmetry',\n",
    "                'value': {\n",
    "                    'type': 'string',\n",
    "                    'link': 62\n",
    "                },\n",
    "                'unit': '',\n",
    "                'annotation': ''\n",
    "            },\n",
    "            {\n",
    "                'keyName': 'GRID',\n",
    "                'value': {\n",
    "                    'type': 'string',\n",
    "                    'link': 'SqrGrid'\n",
    "                },\n",
    "                'unit': '',\n",
    "                'annotation': ''\n",
    "            }\n",
    "        ]\n",
    ")\n",
    "file_info"
   ]
  },
  {
   "cell_type": "markdown",
   "metadata": {},
   "source": [
    "### Check that the file upload succeeded"
   ]
  },
  {
   "cell_type": "code",
   "execution_count": null,
   "metadata": {},
   "outputs": [],
   "source": [
    "contents = ht_reqs.get_item_dict_from_ht_path(auth_control=auth_control, ht_path='/')\n",
    "print_json(contents)"
   ]
  },
  {
   "cell_type": "code",
   "execution_count": null,
   "metadata": {},
   "outputs": [],
   "source": [
    "contents = ht_reqs.get_item_dict_from_ht_path(auth_control=auth_control, ht_path=f'/{folder_name}')\n",
    "print_json(contents)"
   ]
  },
  {
   "cell_type": "code",
   "execution_count": null,
   "metadata": {},
   "outputs": [],
   "source": []
  }
 ],
 "metadata": {
  "kernelspec": {
   "name": "python388jvsc74a57bd0797fe8c18b5c24b87844a3fba31d90f5aabd27c353b8c74a59444ad31420d741",
   "display_name": "Python 3.8.8 64-bit ('easybake': conda)"
  },
  "language_info": {
   "codemirror_mode": {
    "name": "ipython",
    "version": 3
   },
   "file_extension": ".py",
   "mimetype": "text/x-python",
   "name": "python",
   "nbconvert_exporter": "python",
   "pygments_lexer": "ipython3",
   "version": "3.8.8"
  },
  "metadata": {
   "interpreter": {
    "hash": "797fe8c18b5c24b87844a3fba31d90f5aabd27c353b8c74a59444ad31420d741"
   }
  }
 },
 "nbformat": 4,
 "nbformat_minor": 4
}